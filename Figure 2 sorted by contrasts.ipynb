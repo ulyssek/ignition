version https://git-lfs.github.com/spec/v1
oid sha256:48034c1fea94d7d3ba31c67adc2b5557ad34dcf36f300d2d897f4d42300858a0
size 28571946
